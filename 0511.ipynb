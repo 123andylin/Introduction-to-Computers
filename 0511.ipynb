{
  "nbformat": 4,
  "nbformat_minor": 0,
  "metadata": {
    "colab": {
      "name": "0511.ipynb",
      "provenance": [],
      "collapsed_sections": [],
      "authorship_tag": "ABX9TyN6PXRPnNLpCxsESm/01ZzY",
      "include_colab_link": true
    },
    "kernelspec": {
      "name": "python3",
      "display_name": "Python 3"
    },
    "language_info": {
      "name": "python"
    }
  },
  "cells": [
    {
      "cell_type": "markdown",
      "metadata": {
        "id": "view-in-github",
        "colab_type": "text"
      },
      "source": [
        "<a href=\"https://colab.research.google.com/github/123andylin/Introduction-to-Computers/blob/main/0511.ipynb\" target=\"_parent\"><img src=\"https://colab.research.google.com/assets/colab-badge.svg\" alt=\"Open In Colab\"/></a>"
      ]
    },
    {
      "cell_type": "code",
      "execution_count": null,
      "metadata": {
        "colab": {
          "base_uri": "https://localhost:8080/"
        },
        "id": "RrTp1bTyV4WI",
        "outputId": "11ac6f4b-0681-4bfd-df6a-1e6f7294e386"
      },
      "outputs": [
        {
          "output_type": "stream",
          "name": "stdout",
          "text": [
            "test\n"
          ]
        }
      ],
      "source": [
        "print('test')"
      ]
    },
    {
      "cell_type": "code",
      "source": [
        "temp = float(input('請輸入你的體溫'))\n",
        "if(temp>=37.5):\n",
        "    print('體溫過高!')\n",
        "elif(temp>=37 and temp<37.4):\n",
        "    print('體溫略高!')\n",
        "elif(temp>=34 and temp<36.9):\n",
        "    print('體溫正常!')\n",
        "else:\n",
        "    print('體溫異常,請重新量測!')"
      ],
      "metadata": {
        "colab": {
          "base_uri": "https://localhost:8080/"
        },
        "id": "Wc1lefVmXoJn",
        "outputId": "06be6993-9ecf-4d7d-c628-b2f3e9faec53"
      },
      "execution_count": null,
      "outputs": [
        {
          "output_type": "stream",
          "name": "stdout",
          "text": [
            "請輸入你的體溫37.5\n",
            "體溫過高!\n"
          ]
        }
      ]
    },
    {
      "cell_type": "code",
      "source": [
        "money = int(input('請輸入購物金額:'))\n",
        "if(money>=10000):\n",
        "    if(money>=100000):\n",
        "        print('八折',money * 0.8,end = '元\\n')\n",
        "    elif(money>=50000):\n",
        "        print('八五折',money * 0.85,end = '元\\n')\n",
        "    elif(money>=30000):\n",
        "        print('九折',money * 0.9,end = '元\\n')\n",
        "    else:\n",
        "        print('九五折',money * 0.95,end = '元\\n')\n",
        "else:\n",
        "    print('沒打折',money,end = '元\\n')"
      ],
      "metadata": {
        "colab": {
          "base_uri": "https://localhost:8080/"
        },
        "id": "eJweOCdBXoRi",
        "outputId": "e349cea8-fdae-4b06-f6eb-18b17cd52fff"
      },
      "execution_count": null,
      "outputs": [
        {
          "output_type": "stream",
          "name": "stdout",
          "text": [
            "請輸入購物金額:50000\n",
            "八五折 42500.0元\n"
          ]
        }
      ]
    },
    {
      "cell_type": "code",
      "source": [
        "month = int(input('請使用者輸入月份:'))\n",
        "if(month>=1 and month<=12):\n",
        "    if(month>=3 and month<=5):\n",
        "        print(month,'月是春天!')\n",
        "    elif(month>=6 and month<=8):\n",
        "        print(month,'月是夏天!')\n",
        "    elif(month>=9 and month<=11):\n",
        "        print(month,'月是秋天!')\n",
        "    else:\n",
        "        print(month,'月是冬天!')\n",
        "else:\n",
        "    print('月份不在範圍內!')"
      ],
      "metadata": {
        "colab": {
          "base_uri": "https://localhost:8080/"
        },
        "id": "vKOsMWGhXoYh",
        "outputId": "0826bb95-8ef6-49b7-fa30-3e0e86faeb86"
      },
      "execution_count": 7,
      "outputs": [
        {
          "output_type": "stream",
          "name": "stdout",
          "text": [
            "請使用者輸入月份:12\n",
            "12 月是冬天!\n"
          ]
        }
      ]
    },
    {
      "cell_type": "code",
      "source": [
        "income = int(input('請輸入今年收入淨額:'))\n",
        "if(income>=300000):\n",
        "    if(income>=2000000):\n",
        "        print('付款金額:',income * 0.3,end = '元\\n')\n",
        "    elif(income>=1000000):\n",
        "        print('付款金額:',income * 0.21,end = '元\\n')\n",
        "    elif(income>=600000):\n",
        "        print('付款金額:',income * 0.13,end = '元\\n')\n",
        "    else:\n",
        "        print('付款金額:',income * 0.06,end = '元\\n')\n",
        "else:\n",
        "    print('付款金額:0' ,end = '元\\n')"
      ],
      "metadata": {
        "id": "1YG26UPcZ2t7",
        "colab": {
          "base_uri": "https://localhost:8080/"
        },
        "outputId": "ac9aa9b6-997a-409d-cd93-0c30a74c5590"
      },
      "execution_count": 13,
      "outputs": [
        {
          "output_type": "stream",
          "name": "stdout",
          "text": [
            "請輸入今年收入淨額:100000\n",
            "付款金額:0元\n"
          ]
        }
      ]
    },
    {
      "cell_type": "code",
      "source": [
        "income = int(input('請輸入今年收入淨額:'))\n",
        "if(income>=300000):\n",
        "    if(income>=2000000):\n",
        "        print('付款金額:',income * 0.3,end = '元\\n')\n",
        "    elif(income>=1000000):\n",
        "        print('付款金額:',income * 0.21,end = '元\\n')\n",
        "    elif(income>=600000):\n",
        "        print('付款金額:',income * 0.13,end = '元\\n')\n",
        "    else:\n",
        "        print('付款金額:',income * 0.06,end = '元\\n')\n",
        "else:\n",
        "    print('付款金額:0' ,end = '元\\n')"
      ],
      "metadata": {
        "id": "O726RtnVZ2z0",
        "colab": {
          "base_uri": "https://localhost:8080/"
        },
        "outputId": "aecaab86-59a9-402c-c859-dff7ad1f7a03"
      },
      "execution_count": 15,
      "outputs": [
        {
          "output_type": "stream",
          "name": "stdout",
          "text": [
            "請輸入今年收入淨額:2000000\n",
            "付款金額: 600000.0元\n"
          ]
        }
      ]
    },
    {
      "cell_type": "code",
      "source": [
        "grade = int(input('請輸入成績:'))\n",
        "if(grade>=90):\n",
        "    print('A')\n",
        "elif(grade>=80 and grade<=89):\n",
        "    print('B')\n",
        "elif(grade>=70 and grade<=79):\n",
        "    print('C')\n",
        "elif(grade>=60 and grade<=69):\n",
        "    print('D')  \n",
        "else:\n",
        "    print('E')"
      ],
      "metadata": {
        "id": "fTsupnNKZ26z",
        "colab": {
          "base_uri": "https://localhost:8080/"
        },
        "outputId": "2afce045-5035-41f0-e60e-86ab4fca3149"
      },
      "execution_count": 19,
      "outputs": [
        {
          "output_type": "stream",
          "name": "stdout",
          "text": [
            "請輸入成績:90\n",
            "A\n"
          ]
        }
      ]
    },
    {
      "cell_type": "code",
      "source": [
        "grade = int(input('請輸入成績:'))\n",
        "if(grade>=90):\n",
        "    print('A')\n",
        "elif(grade>=80 and grade<=89):\n",
        "    print('B')\n",
        "elif(grade>=70 and grade<=79):\n",
        "    print('C')\n",
        "elif(grade>=60 and grade<=69):\n",
        "    print('D')  \n",
        "else:\n",
        "    print('E')"
      ],
      "metadata": {
        "id": "xOqXq4l4Z3Bk",
        "colab": {
          "base_uri": "https://localhost:8080/"
        },
        "outputId": "dd298a2e-2bb4-4971-904f-355fd0d38c78"
      },
      "execution_count": 20,
      "outputs": [
        {
          "output_type": "stream",
          "name": "stdout",
          "text": [
            "請輸入成績:80\n",
            "B\n"
          ]
        }
      ]
    },
    {
      "cell_type": "code",
      "source": [
        "grade = int(input('請輸入成績:'))\n",
        "if(grade>=90):\n",
        "    print('A')\n",
        "elif(grade>=80 and grade<=89):\n",
        "    print('B')\n",
        "elif(grade>=70 and grade<=79):\n",
        "    print('C')\n",
        "elif(grade>=60 and grade<=69):\n",
        "    print('D')  \n",
        "else:\n",
        "    print('E')"
      ],
      "metadata": {
        "id": "fBYJhv_zXofI",
        "colab": {
          "base_uri": "https://localhost:8080/"
        },
        "outputId": "ba1c4d7f-d754-411d-d406-941261435b21"
      },
      "execution_count": 21,
      "outputs": [
        {
          "output_type": "stream",
          "name": "stdout",
          "text": [
            "請輸入成績:50\n",
            "E\n"
          ]
        }
      ]
    }
  ]
}